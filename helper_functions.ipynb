{
 "cells": [
  {
   "cell_type": "code",
   "execution_count": null,
   "metadata": {},
   "outputs": [],
   "source": [
    "from IPython.core.display import display, HTML\n",
    "display(HTML(\"<style>.container { width:100% !important; }</style>\"))"
   ]
  },
  {
   "cell_type": "code",
   "execution_count": null,
   "metadata": {},
   "outputs": [],
   "source": [
    "import boto3\n",
    "import pandas as pd\n",
    "import os\n",
    "\n",
    "s3_client = boto3.client('s3')"
   ]
  },
  {
   "cell_type": "markdown",
   "metadata": {},
   "source": [
    "### 1. Get a list of available buckets in the environment"
   ]
  },
  {
   "cell_type": "code",
   "execution_count": null,
   "metadata": {},
   "outputs": [],
   "source": [
    "def list_buckets():\n",
    "    for buckets in s3_client.list_buckets()['Buckets']:\n",
    "        print(buckets['Name'])"
   ]
  },
  {
   "cell_type": "code",
   "execution_count": null,
   "metadata": {},
   "outputs": [],
   "source": [
    "list_buckets()"
   ]
  },
  {
   "cell_type": "markdown",
   "metadata": {},
   "source": [
    "### 2. Get a list of all files within a specific bucket and directory path"
   ]
  },
  {
   "cell_type": "code",
   "execution_count": null,
   "metadata": {},
   "outputs": [],
   "source": [
    "def list_files_from_bucket(bucket, key):\n",
    "    response = s3_client.list_objects(Bucket=bucket, Prefix=key)\n",
    "    s3_objects = response['Contents']\n",
    "#     s3_uri_prefix = f's3://{bucket}'\n",
    "\n",
    "    for obj in s3_objects:\n",
    "        filename = obj['Key'] #f'{s3_uri_prefix}/{obj[\"Key\"]}' #((obj['Key']).split('/'))[-1]\n",
    "        print(filename)"
   ]
  },
  {
   "cell_type": "code",
   "execution_count": null,
   "metadata": {
    "scrolled": true
   },
   "outputs": [],
   "source": [
    "bucket = 'preprocessed-carma-core-validation'\n",
    "key = 'csvfiles/Core_Validation_Testing/Facility_Summit_Point/Vehicle_Black_Pacifica/20210318/r1_down-selected/'\n",
    "list_files_from_bucket(bucket, key)"
   ]
  },
  {
   "cell_type": "markdown",
   "metadata": {},
   "source": [
    "### 3. Import and load a csv file from S3 as pandas dataframe for further analysis"
   ]
  },
  {
   "cell_type": "code",
   "execution_count": null,
   "metadata": {},
   "outputs": [],
   "source": [
    "file_name = \"csvfiles/Core_Validation_Testing/Facility_Summit_Point/Vehicle_Black_Pacifica/20210318/r1_down-selected/hardware_interface_gps.csv\"\n",
    "obj = s3_client.get_object(Bucket=bucket, Key=file_name)\n",
    "df = pd.read_csv(obj['Body'])"
   ]
  },
  {
   "cell_type": "code",
   "execution_count": null,
   "metadata": {},
   "outputs": [],
   "source": [
    "df.tail()"
   ]
  },
  {
   "cell_type": "code",
   "execution_count": null,
   "metadata": {},
   "outputs": [],
   "source": [
    "df.columns.values"
   ]
  },
  {
   "cell_type": "markdown",
   "metadata": {},
   "source": [
    "### 4. Download a file from S3"
   ]
  },
  {
   "cell_type": "code",
   "execution_count": null,
   "metadata": {},
   "outputs": [],
   "source": [
    "def download_from_s3(s3_filename, local_filename):\n",
    "    return os.system(f'aws s3 cp {s3_filename} {local_filename}')"
   ]
  },
  {
   "cell_type": "code",
   "execution_count": null,
   "metadata": {},
   "outputs": [],
   "source": [
    "s3_filename = f's3://{bucket}/{file_name}' #bucket variable is from Step2 and filename variable is from step3 above\n",
    "local_filename = 'C:\\\\Users\\\\zankur.tyagi.ctr\\\\Documents\\\\Core_Validation\\\\bagfiles' #change this path to your local user account\n",
    "download_from_s3(s3_filename, local_filename)"
   ]
  },
  {
   "cell_type": "markdown",
   "metadata": {},
   "source": [
    "### 5. Upload file to S3"
   ]
  },
  {
   "cell_type": "code",
   "execution_count": null,
   "metadata": {},
   "outputs": [],
   "source": [
    "def upload_to_s3(local_filename, s3_filename):\n",
    "    return os.system(f'aws s3 cp {local_filename} {s3_filename}')"
   ]
  },
  {
   "cell_type": "code",
   "execution_count": null,
   "metadata": {},
   "outputs": [],
   "source": [
    "local_filename = 'C:\\\\Users\\\\zankur.tyagi.ctr\\\\Documents\\\\Core_Validation\\\\bagfiles\\\\hardware_interface_gps.csv'\n",
    "s3_filename = 's3://fotda-raw/bagfiles/Core_Validation_Testing/Facility_Summit_Point/logs/'\n",
    "upload_to_s3(local_filename, s3_filename)"
   ]
  }
 ],
 "metadata": {
  "kernelspec": {
   "display_name": "Python 3",
   "language": "python",
   "name": "python3"
  },
  "language_info": {
   "codemirror_mode": {
    "name": "ipython",
    "version": 3
   },
   "file_extension": ".py",
   "mimetype": "text/x-python",
   "name": "python",
   "nbconvert_exporter": "python",
   "pygments_lexer": "ipython3",
   "version": "3.8.7"
  }
 },
 "nbformat": 4,
 "nbformat_minor": 5
}
